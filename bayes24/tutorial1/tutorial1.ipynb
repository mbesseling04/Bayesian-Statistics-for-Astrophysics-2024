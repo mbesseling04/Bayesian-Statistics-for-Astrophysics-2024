{
 "cells": [
  {
   "cell_type": "markdown",
   "id": "f4ae035a-d2b3-4c21-9673-8996594fca0d",
   "metadata": {},
   "source": [
    "# Tutorial 1: Version Control with Git\n",
    "\n",
    "\n",
    "[![View notebook on Github](https://img.shields.io/static/v1.svg?logo=github&label=Repo&message=View%20On%20Github&color=lightgrey)](https://github.com/t-kist/Bayesian-Statistics-for-Astrophysics-2024/blob/main/bayes24/tutorial1/tutorial1.ipynb)\n",
    "[![View on RTD](https://img.shields.io/static/v1.svg?logo=readthedocs&label=RTD&message=View%20On%20RTD&color=8CA1AF)](https://bayesian-statistics-for-astrophysics-2024.readthedocs.io/en/latest/tutorial1/tutorial1.html)"
   ]
  },
  {
   "cell_type": "markdown",
   "id": "c3f1c3a8670fd28c",
   "metadata": {},
   "source": [
    "All our course materials will be hosted in this GitHub repostitory. Today we will learn how to use Git to clone the repository to your local machine, and how to push and pull updates to/from the repository."
   ]
  },
  {
   "cell_type": "markdown",
   "id": "c621c604-1273-463b-850a-8d2a99178741",
   "metadata": {},
   "source": [
    "## Required software"
   ]
  },
  {
   "cell_type": "markdown",
   "id": "dee418e6-7e38-4c5d-9e89-f7264340b0b3",
   "metadata": {},
   "source": [
    "### Git"
   ]
  },
  {
   "cell_type": "markdown",
   "id": "ef919397525dd3f2",
   "metadata": {},
   "source": [
    "Let's start by installing Git if you haven't done so already. Go to https://git-scm.com/book/en/v2/Getting-Started-Installing-Git and follow the instructions for your operating system."
   ]
  },
  {
   "cell_type": "markdown",
   "id": "89700343a816b7b1",
   "metadata": {},
   "source": [
    "Git itself is an open-source command-line version control tool. To collaborate with others on the same codebase, we will use GitHub, a web-based Git repository hosting service. (Note that this is not the only option; there are many competitors such as GitLab and Bitbucket.)"
   ]
  },
  {
   "cell_type": "markdown",
   "id": "979cc720-86ca-45b0-8930-f8293e48ab89",
   "metadata": {},
   "source": [
    "### Github"
   ]
  },
  {
   "cell_type": "markdown",
   "id": "988b4ffdd170b9fa",
   "metadata": {},
   "source": [
    "You can create a GitHub account by following this link: https://github.com. In fact, as a student, you are even entitled to a free GitHub Pro account with some additional features. You can apply for the Student Developer Pack here: https://education.github.com/pack."
   ]
  },
  {
   "cell_type": "markdown",
   "id": "7b512d8b6bb52801",
   "metadata": {},
   "source": [
    "Once you have Git installed and a GitHub account, you first have to link Git to your Github profile:"
   ]
  },
  {
   "cell_type": "markdown",
   "id": "bedb5acc-f80d-4970-b5bf-c38f1889e22f",
   "metadata": {},
   "source": [
    "Now you can clone the Bayesian-Statistics-for-Astrophysics-2024 repository to your local machine. Open a terminal, cd to the directory where you would like to store your Git repositories, e.g. ~/python, and type the following command:"
   ]
  },
  {
   "cell_type": "code",
   "id": "9a9b1752-fc5b-4eaa-bf67-3ac74898d206",
   "metadata": {
    "ExecuteTime": {
     "end_time": "2024-10-02T16:11:26.219967Z",
     "start_time": "2024-10-02T16:11:26.167436Z"
    }
   },
   "source": [
    "git config --global user.name “[username]”\n",
    "git config --global user.email \"[number+username@users.noreply.github.com]\""
   ],
   "outputs": [
    {
     "ename": "SyntaxError",
     "evalue": "invalid character '“' (U+201C) (3800134424.py, line 1)",
     "output_type": "error",
     "traceback": [
      "\u001B[1;36m  Cell \u001B[1;32mIn[1], line 1\u001B[1;36m\u001B[0m\n\u001B[1;33m    git config --global user.name “[username]”\u001B[0m\n\u001B[1;37m                                  ^\u001B[0m\n\u001B[1;31mSyntaxError\u001B[0m\u001B[1;31m:\u001B[0m invalid character '“' (U+201C)\n"
     ]
    }
   ],
   "execution_count": 1
  },
  {
   "cell_type": "code",
   "id": "23d72a84-2f6a-49f4-bbf1-25250389c9d8",
   "metadata": {
    "ExecuteTime": {
     "end_time": "2024-10-02T16:11:26.226987Z",
     "start_time": "2024-10-02T16:11:26.224987Z"
    }
   },
   "source": [
    "git clone https://github.com/t-kist/Bayesian-Statistics-for-Astrophysics-2024.git"
   ],
   "outputs": [],
   "execution_count": null
  },
  {
   "cell_type": "markdown",
   "id": "a6803de5-a548-4d0d-a337-435baad3c3df",
   "metadata": {},
   "source": [
    "### Python"
   ]
  },
  {
   "cell_type": "markdown",
   "id": "f4b3137b7af22465",
   "metadata": {},
   "source": [
    "To work with the code, you will need python (which you have probably already used before). To avoid conflicts with other projects that you might be working on, we will create a separate virtual python environment for this course. To do this, we will use Miniconda, but you can also use other alternatives if you're using them already. To install Miniconda, go to https://docs.anaconda.com/miniconda/miniconda-install/ and follow the instructions for your operating system."
   ]
  },
  {
   "cell_type": "markdown",
   "id": "c5ef978cb66005d4",
   "metadata": {},
   "source": [
    "Now you can create a new conda environment by running the following command in the terminal:"
   ]
  },
  {
   "cell_type": "code",
   "id": "4bc78017-3164-4296-b183-6bfc3c15550f",
   "metadata": {
    "ExecuteTime": {
     "end_time": "2024-10-02T16:11:26.237987Z",
     "start_time": "2024-10-02T16:11:26.233984Z"
    }
   },
   "source": [
    "conda create -n bayes24 python=3.9"
   ],
   "outputs": [],
   "execution_count": null
  },
  {
   "cell_type": "markdown",
   "id": "39b4d15e34b40ac0",
   "metadata": {},
   "source": [
    "To activate the environment, type:"
   ]
  },
  {
   "cell_type": "code",
   "id": "7c4d29a6-0a5c-472d-9d84-f7aae3d5d599",
   "metadata": {
    "ExecuteTime": {
     "end_time": "2024-10-02T16:11:26.243990Z",
     "start_time": "2024-10-02T16:11:26.242982Z"
    }
   },
   "source": [
    "conda activate bayes24"
   ],
   "outputs": [],
   "execution_count": null
  },
  {
   "cell_type": "markdown",
   "id": "f77bfa20-5ca2-4ccf-9d35-bb89eeaa825f",
   "metadata": {},
   "source": [
    "Now change to your cloned Bayesian-Statistics-for-Astrophysics-2024 directory and type:"
   ]
  },
  {
   "cell_type": "code",
   "id": "1e2d6101-a2e8-4a80-b91b-bc4d2dcd486e",
   "metadata": {
    "ExecuteTime": {
     "end_time": "2024-10-02T16:16:19.721193Z",
     "start_time": "2024-10-02T16:16:12.492659Z"
    }
   },
   "source": [
    "pip install -e ."
   ],
   "outputs": [
    {
     "name": "stdout",
     "output_type": "stream",
     "text": [
      "Obtaining file:///C:/Users/jelme/OneDrive/Documenten/Uni%20export/Semester%205/Bayesian%20Statistics%20for%20Astrophysics/Bayesian-Statistics-for-Astrophysics-2024/bayes24/tutorial1\n",
      "Note: you may need to restart the kernel to use updated packages.\n"
     ]
    },
    {
     "name": "stderr",
     "output_type": "stream",
     "text": [
      "ERROR: file:///C:/Users/jelme/OneDrive/Documenten/Uni%20export/Semester%205/Bayesian%20Statistics%20for%20Astrophysics/Bayesian-Statistics-for-Astrophysics-2024/bayes24/tutorial1 does not appear to be a Python project: neither 'setup.py' nor 'pyproject.toml' found.\n",
      "\n",
      "[notice] A new release of pip is available: 24.0 -> 24.2\n",
      "[notice] To update, run: python.exe -m pip install --upgrade pip\n"
     ]
    }
   ],
   "execution_count": 1
  },
  {
   "cell_type": "markdown",
   "id": "a43e117d-854d-4581-b30a-379621500ba3",
   "metadata": {},
   "source": [
    "Now you should be able to open this notebook in"
   ]
  },
  {
   "cell_type": "code",
   "id": "a8c222c1-5ac5-49e1-9586-7144b1f51661",
   "metadata": {
    "ExecuteTime": {
     "end_time": "2024-10-02T16:11:28.029467Z",
     "start_time": "2024-10-02T16:11:28.007775Z"
    }
   },
   "source": [
    "jupyter notebook"
   ],
   "outputs": [
    {
     "ename": "SyntaxError",
     "evalue": "invalid syntax (1198962508.py, line 1)",
     "output_type": "error",
     "traceback": [
      "\u001B[1;36m  Cell \u001B[1;32mIn[3], line 1\u001B[1;36m\u001B[0m\n\u001B[1;33m    jupyter notebook\u001B[0m\n\u001B[1;37m            ^\u001B[0m\n\u001B[1;31mSyntaxError\u001B[0m\u001B[1;31m:\u001B[0m invalid syntax\n"
     ]
    }
   ],
   "execution_count": 3
  },
  {
   "cell_type": "markdown",
   "id": "ef0196c9-2d7f-4492-9004-0de7cb65c96b",
   "metadata": {},
   "source": [
    "### Optional: Integrated Devoloping Environments"
   ]
  },
  {
   "cell_type": "markdown",
   "id": "6c380491-987b-47d1-ade2-0b1e9e62634c",
   "metadata": {},
   "source": [
    "In this course, we will mainly be working with notebooks such as this one which you can easily view and execute using jupyter notebook. As an alternative, you can also work with more sophisticated Integrated Devoloping Environments (IDEs) such as VS Code (https://code.visualstudio.com) or PyCharm (https://www.jetbrains.com/pycharm/)."
   ]
  },
  {
   "cell_type": "markdown",
   "id": "fcf3a09d-3517-410d-b0d8-7a605866ad9d",
   "metadata": {},
   "source": [
    "Especially PyCharm is useful as it comes with integrated Git support that saves you from having to use the command line. You can apply for a free student license here: https://www.jetbrains.com/community/education/#students."
   ]
  },
  {
   "cell_type": "markdown",
   "id": "3004b1b5-0928-4c23-9d2d-90c4da8b1d28",
   "metadata": {},
   "source": [
    "## Learning the Git basics"
   ]
  },
  {
   "cell_type": "markdown",
   "id": "162324ee-bc17-4b61-8498-0a099bb212ab",
   "metadata": {},
   "source": [
    "After following all the steps from above, you all set to learn the basics of Git. There are many tutorials and cheat-sheets, for example this one: https://training.github.com/downloads/github-git-cheat-sheet.pdf"
   ]
  },
  {
   "cell_type": "markdown",
   "id": "1724dd23-57cb-4a30-b43f-31739f195fba",
   "metadata": {},
   "source": [
    "We will practise this based on a very simple exercise. The function below (which is defined in Bayesian-Statistics-for-Astrophysics-2024/bayes24/tutorial1/utils.py) prints out the favorite number of a given person. If all installations work correctly, you should now be able to run the following lines:"
   ]
  },
  {
   "cell_type": "code",
   "id": "873d420fee66a72d",
   "metadata": {
    "ExecuteTime": {
     "end_time": "2024-10-02T16:13:12.724015Z",
     "start_time": "2024-10-02T16:13:12.684964Z"
    }
   },
   "source": [
    "from bayes24.tutorial1.utils import get_favorite_number"
   ],
   "outputs": [
    {
     "ename": "ModuleNotFoundError",
     "evalue": "No module named 'bayes24'",
     "output_type": "error",
     "traceback": [
      "\u001B[1;31m---------------------------------------------------------------------------\u001B[0m",
      "\u001B[1;31mModuleNotFoundError\u001B[0m                       Traceback (most recent call last)",
      "Cell \u001B[1;32mIn[44], line 1\u001B[0m\n\u001B[1;32m----> 1\u001B[0m \u001B[38;5;28;01mfrom\u001B[39;00m \u001B[38;5;21;01mbayes24\u001B[39;00m\u001B[38;5;21;01m.\u001B[39;00m\u001B[38;5;21;01mtutorial1\u001B[39;00m\u001B[38;5;21;01m.\u001B[39;00m\u001B[38;5;21;01mutils\u001B[39;00m \u001B[38;5;28;01mimport\u001B[39;00m get_favorite_number\n",
      "\u001B[1;31mModuleNotFoundError\u001B[0m: No module named 'bayes24'"
     ]
    }
   ],
   "execution_count": 44
  },
  {
   "cell_type": "code",
   "id": "cb0a4f406ee396eb",
   "metadata": {
    "ExecuteTime": {
     "end_time": "2024-10-02T16:12:03.300083Z",
     "start_time": "2024-10-02T16:12:02.408872Z"
    }
   },
   "source": [
    "get_favorite_number('Alice')"
   ],
   "outputs": [
    {
     "ename": "NameError",
     "evalue": "name 'get_favorite_number' is not defined",
     "output_type": "error",
     "traceback": [
      "\u001B[1;31m---------------------------------------------------------------------------\u001B[0m",
      "\u001B[1;31mNameError\u001B[0m                                 Traceback (most recent call last)",
      "Cell \u001B[1;32mIn[4], line 1\u001B[0m\n\u001B[1;32m----> 1\u001B[0m \u001B[43mget_favorite_number\u001B[49m(\u001B[38;5;124m'\u001B[39m\u001B[38;5;124mAlice\u001B[39m\u001B[38;5;124m'\u001B[39m)\n",
      "\u001B[1;31mNameError\u001B[0m: name 'get_favorite_number' is not defined"
     ]
    }
   ],
   "execution_count": 4
  },
  {
   "cell_type": "code",
   "id": "846054a2-5053-4140-a127-93177470a564",
   "metadata": {},
   "source": [
    "get_favorite_number('Bob')"
   ],
   "outputs": [],
   "execution_count": null
  },
  {
   "cell_type": "code",
   "id": "a06936d2-e185-45b1-979c-10681af47104",
   "metadata": {},
   "source": [
    "get_favorite_number('Timo')"
   ],
   "outputs": [],
   "execution_count": null
  },
  {
   "cell_type": "markdown",
   "id": "cb49d7bc-0436-46ac-b10b-62d7236d17f8",
   "metadata": {},
   "source": [
    "Now imagine you would like to extend its functionality to also print out your own favorite number."
   ]
  },
  {
   "cell_type": "markdown",
   "id": "1d83721c-c4b0-4095-a6e1-03bae2c860f7",
   "metadata": {},
   "source": [
    "To avoid interfering with the main version of the code (the main branch), you always create an own branch on which you implement and test the new features that you would like to add. Once everything is running stably, you create a pull request, asking for your changes to be merged into the main branch."
   ]
  },
  {
   "cell_type": "markdown",
   "id": "1c41aa05-fd38-40d9-b78f-a3a0afb13011",
   "metadata": {},
   "source": [
    "To do so, you start by generating your own branch by typing"
   ]
  },
  {
   "cell_type": "code",
   "id": "d585d95f-e3ba-4e57-aa39-c63a4af0abaf",
   "metadata": {},
   "source": [
    "git branch [branch-name]"
   ],
   "outputs": [],
   "execution_count": null
  },
  {
   "cell_type": "markdown",
   "id": "0190e713-a976-4f59-b63f-8dbef3ca25fa",
   "metadata": {},
   "source": [
    "You switch to this branch using"
   ]
  },
  {
   "cell_type": "code",
   "id": "064d9bd8-7bc9-4890-8476-e83dc6f7d5cd",
   "metadata": {},
   "source": [
    "git checkout [branch-name]"
   ],
   "outputs": [],
   "execution_count": null
  },
  {
   "cell_type": "markdown",
   "id": "7da15200-fa9f-4771-b7d8-fa11da104d1d",
   "metadata": {},
   "source": [
    "Now you can start developing on your new branch. Once you're done, you have to commit and push your changes to the server."
   ]
  },
  {
   "cell_type": "markdown",
   "id": "82f27ccd-92ea-40a6-a0ba-311a1a7d876e",
   "metadata": {},
   "source": [
    "First, you have to tell Git which files you would like to add to the commit. In this case, that is:"
   ]
  },
  {
   "cell_type": "code",
   "id": "83d4a98b-b882-40ca-a7d7-7c259b34e5f3",
   "metadata": {},
   "source": [
    "git add bayes24/tutorial1/utils.py"
   ],
   "outputs": [],
   "execution_count": null
  },
  {
   "cell_type": "markdown",
   "id": "a4ef30b5-cd47-41ee-9ea0-26cf06a5f985",
   "metadata": {},
   "source": [
    "Once all files are added, you have to commit them. This make Git save the new files and/or modifications to the version history:"
   ]
  },
  {
   "cell_type": "code",
   "id": "7da776e1-dcd8-40d8-971b-cd8e5b6282b0",
   "metadata": {},
   "source": [
    "git commit -m \"[descriptive message]\""
   ],
   "outputs": [],
   "execution_count": null
  },
  {
   "cell_type": "markdown",
   "id": "42000439-d84b-4904-9f55-cb4147273792",
   "metadata": {},
   "source": [
    "Finally, you will have to push your commit to the Github server:"
   ]
  },
  {
   "cell_type": "code",
   "id": "3e7d6045-8db2-4623-9f6f-dc8edc51911f",
   "metadata": {},
   "source": [
    "git push"
   ],
   "outputs": [],
   "execution_count": null
  },
  {
   "cell_type": "markdown",
   "id": "17eac526-9bc4-4b79-ab3f-0696f71f996b",
   "metadata": {},
   "source": [
    "While you are developing, you keep repeating the last three steps. If you're working together with several people on the same branch, it is important to also keep up to date with the changes that those people might be making to the code. You do so by pulling the most recent changes from the server:"
   ]
  },
  {
   "cell_type": "code",
   "id": "ae512c56-2752-46f6-b492-414801a8f51d",
   "metadata": {},
   "source": [
    "git pull"
   ],
   "outputs": [],
   "execution_count": null
  },
  {
   "cell_type": "markdown",
   "id": "4e7ea533-d95e-4c88-9fd5-9c569493822b",
   "metadata": {},
   "source": [
    "Even if you are working alone on your own branch, it still is important to keep up to date with the changes that are happening on the main branch to aviod conflicts when you are merging. To do so, you should also pull the changes from that branch into your own branch by typing:"
   ]
  },
  {
   "cell_type": "code",
   "id": "e8398791-8141-4563-8bf3-a936c210e825",
   "metadata": {},
   "source": [
    "git pull origin main"
   ],
   "outputs": [],
   "execution_count": null
  },
  {
   "cell_type": "markdown",
   "id": "a5c1222f-112c-49b4-ad13-4184341767bd",
   "metadata": {},
   "source": [
    "Once you're happy with the new features you implemented and you tested that everything runs without any bugs, you are ready to submit a pull request to ask for the changes on your branch to be added to the main branch. You can do this by opening the repository webpage on Github (https://github.com/t-kist/Bayesian-Statistics-for-Astrophysics-2024/) and clicking on the Pull requests tab."
   ]
  },
  {
   "cell_type": "markdown",
   "id": "2f5988af-bb92-4b01-b181-62e5ddc629b0",
   "metadata": {},
   "source": [
    "Before merging, this gives your collaborators the opportunity to provide feedback on your new code and request changes if needed. If they approve your request, you can merge your branch into main and delete your old branch. If you want to add more features, you create a new branch and once again repeat all the steps above."
   ]
  },
  {
   "cell_type": "code",
   "id": "e0b626bd-e358-4bcc-b822-1f9da3935112",
   "metadata": {},
   "source": [],
   "outputs": [],
   "execution_count": null
  }
 ],
 "metadata": {
  "kernelspec": {
   "display_name": "Python 3 (ipykernel)",
   "language": "python",
   "name": "python3"
  },
  "language_info": {
   "codemirror_mode": {
    "name": "ipython",
    "version": 3
   },
   "file_extension": ".py",
   "mimetype": "text/x-python",
   "name": "python",
   "nbconvert_exporter": "python",
   "pygments_lexer": "ipython3",
   "version": "3.9.19"
  }
 },
 "nbformat": 4,
 "nbformat_minor": 5
}
